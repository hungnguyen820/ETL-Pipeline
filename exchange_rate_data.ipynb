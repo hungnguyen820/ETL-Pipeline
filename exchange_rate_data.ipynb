{
 "cells": [
  {
   "cell_type": "code",
   "execution_count": 1,
   "id": "ddf3ccb2-2ad3-4843-85a5-8de960a39290",
   "metadata": {},
   "outputs": [],
   "source": [
    "exchange_rate_data = \"\"\"Currency,Rate\n",
    "GBP,0.8\n",
    "EUR,0.9\n",
    "INR,82.7\n",
    "\"\"\"\n",
    "\n",
    "with open('exchange_rate.csv', 'w') as f:\n",
    "    f.write(exchange_rate_data)\n",
    "\n"
   ]
  },
  {
   "cell_type": "code",
   "execution_count": null,
   "id": "0e424a0f-12e9-4784-bd4d-cace87ccae40",
   "metadata": {},
   "outputs": [],
   "source": []
  }
 ],
 "metadata": {
  "kernelspec": {
   "display_name": "Python [conda env:base] *",
   "language": "python",
   "name": "conda-base-py"
  },
  "language_info": {
   "codemirror_mode": {
    "name": "ipython",
    "version": 3
   },
   "file_extension": ".py",
   "mimetype": "text/x-python",
   "name": "python",
   "nbconvert_exporter": "python",
   "pygments_lexer": "ipython3",
   "version": "3.12.7"
  }
 },
 "nbformat": 4,
 "nbformat_minor": 5
}
